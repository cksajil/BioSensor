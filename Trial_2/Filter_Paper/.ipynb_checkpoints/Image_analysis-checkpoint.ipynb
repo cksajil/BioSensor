{
 "cells": [
  {
   "cell_type": "markdown",
   "metadata": {},
   "source": [
    "# Image Analysis of Glucose Concertration"
   ]
  },
  {
   "cell_type": "code",
   "execution_count": 1,
   "metadata": {
    "collapsed": false
   },
   "outputs": [],
   "source": [
    "# Read Image List\n",
    "\n",
    "from os import listdir\n",
    "\n",
    "imagesrc = 'Samples'\n",
    "files = listdir(imagesrc)\n",
    "files = files[1:]"
   ]
  },
  {
   "cell_type": "code",
   "execution_count": 3,
   "metadata": {
    "collapsed": false
   },
   "outputs": [
    {
     "name": "stdout",
     "output_type": "stream",
     "text": [
      "['Sample_12_5.tif', 'Sample_15_0.tif', 'Sample_17_5.tif', 'Sample_20_0.tif', 'Sample_22_5.tif', 'Sample_25_0.tif', 'Sample_27_5.tif', 'Sample_2_5.tif', 'Sample_30_0.tif', 'Sample_32_5.tif', 'Sample_35_0.tif', 'Sample_5_0.tif', 'Sample_7_5.tif']\n"
     ]
    }
   ],
   "source": [
    "print files"
   ]
  },
  {
   "cell_type": "code",
   "execution_count": 2,
   "metadata": {
    "collapsed": false
   },
   "outputs": [
    {
     "ename": "NameError",
     "evalue": "name 'np' is not defined",
     "output_type": "error",
     "traceback": [
      "\u001b[0;31m---------------------------------------------------------------------------\u001b[0m",
      "\u001b[0;31mNameError\u001b[0m                                 Traceback (most recent call last)",
      "\u001b[0;32m<ipython-input-2-1944f6e0abd9>\u001b[0m in \u001b[0;36m<module>\u001b[0;34m()\u001b[0m\n\u001b[1;32m      1\u001b[0m \u001b[1;31m# Input Glucose Concentration Information\u001b[0m\u001b[1;33m\u001b[0m\u001b[1;33m\u001b[0m\u001b[0m\n\u001b[1;32m      2\u001b[0m \u001b[1;31m#import numpy as np\u001b[0m\u001b[1;33m\u001b[0m\u001b[1;33m\u001b[0m\u001b[0m\n\u001b[0;32m----> 3\u001b[0;31m \u001b[0mgluccose_levels\u001b[0m \u001b[1;33m=\u001b[0m \u001b[0mnp\u001b[0m\u001b[1;33m.\u001b[0m\u001b[0mlinspace\u001b[0m\u001b[1;33m(\u001b[0m\u001b[1;36m0.5\u001b[0m\u001b[1;33m,\u001b[0m \u001b[1;36m35.0\u001b[0m\u001b[1;33m,\u001b[0m \u001b[1;36m70\u001b[0m\u001b[1;33m)\u001b[0m\u001b[1;33m\u001b[0m\u001b[0m\n\u001b[0m",
      "\u001b[0;31mNameError\u001b[0m: name 'np' is not defined"
     ]
    }
   ],
   "source": [
    "# Input Glucose Concentration Information\n",
    "import numpy as np\n",
    "gluccose_levels = np.linspace(0.5, 35.0, 70)"
   ]
  },
  {
   "cell_type": "code",
   "execution_count": 32,
   "metadata": {
    "collapsed": false
   },
   "outputs": [],
   "source": [
    "# Read Images\n",
    "\n",
    "from scipy import misc\n",
    "#import matplotlib.pyplot as plt\n",
    "\n",
    "data = []\n",
    "\n",
    "for file in files:\n",
    "    img = misc.imread(imagesrc+'/'+file)\n",
    "\n",
    "    # The channels are Reg, Green, Blue and Transparency\n",
    "    # Select the red channel\n",
    "\n",
    "    red_component = img[:,:,0]\n",
    "    \n",
    "    # Flatten the array\n",
    "    red_vector = red_component.flatten()\n",
    "\n",
    "    data.append(red_vector)\n",
    "\n",
    "\n",
    "# Transpose the matrix \n",
    "data = map(list, zip(*data)) "
   ]
  },
  {
   "cell_type": "code",
   "execution_count": 33,
   "metadata": {
    "collapsed": false
   },
   "outputs": [],
   "source": [
    "import pandas as pd\n",
    "\n",
    "#columns=gluccose_levels\n",
    "\n",
    "result = pd.DataFrame(data, columns = gluccose_levels )\n",
    "result.to_csv('output.csv', sep=',')"
   ]
  },
  {
   "cell_type": "code",
   "execution_count": 25,
   "metadata": {
    "collapsed": false
   },
   "outputs": [],
   "source": []
  },
  {
   "cell_type": "code",
   "execution_count": null,
   "metadata": {
    "collapsed": true
   },
   "outputs": [],
   "source": []
  }
 ],
 "metadata": {
  "anaconda-cloud": {},
  "kernelspec": {
   "display_name": "Python [conda root]",
   "language": "python",
   "name": "conda-root-py"
  },
  "language_info": {
   "codemirror_mode": {
    "name": "ipython",
    "version": 2
   },
   "file_extension": ".py",
   "mimetype": "text/x-python",
   "name": "python",
   "nbconvert_exporter": "python",
   "pygments_lexer": "ipython2",
   "version": "2.7.12"
  }
 },
 "nbformat": 4,
 "nbformat_minor": 1
}
