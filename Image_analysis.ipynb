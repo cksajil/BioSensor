{
 "cells": [
  {
   "cell_type": "markdown",
   "metadata": {},
   "source": [
    "# Image Analysis of Glucose Concertration"
   ]
  },
  {
   "cell_type": "code",
   "execution_count": 30,
   "metadata": {
    "collapsed": false
   },
   "outputs": [],
   "source": [
    "# Read Image List\n",
    "\n",
    "from os import listdir\n",
    "\n",
    "imagesrc = 'Samples'\n",
    "files = listdir(imagesrc)\n",
    "files = files[1:]"
   ]
  },
  {
   "cell_type": "code",
   "execution_count": 31,
   "metadata": {
    "collapsed": false
   },
   "outputs": [],
   "source": [
    "# Input Glucose Concentration Information\n",
    "#import numpy as np\n",
    "gluccose_levels = np.linspace(0.5, 35.0, 70)"
   ]
  },
  {
   "cell_type": "code",
   "execution_count": 32,
   "metadata": {
    "collapsed": false
   },
   "outputs": [],
   "source": [
    "# Read Images\n",
    "\n",
    "from scipy import misc\n",
    "#import matplotlib.pyplot as plt\n",
    "\n",
    "data = []\n",
    "\n",
    "for file in files:\n",
    "    img = misc.imread(imagesrc+'/'+file)\n",
    "\n",
    "    # The channels are Reg, Green, Blue and Transparency\n",
    "    # Select the red channel\n",
    "\n",
    "    red_component = img[:,:,0]\n",
    "    \n",
    "    # Flatten the array\n",
    "    red_vector = red_component.flatten()\n",
    "\n",
    "    data.append(red_vector)\n",
    "\n",
    "\n",
    "# Transpose the matrix \n",
    "data = map(list, zip(*data)) "
   ]
  },
  {
   "cell_type": "code",
   "execution_count": 33,
   "metadata": {
    "collapsed": false
   },
   "outputs": [],
   "source": [
    "import pandas as pd\n",
    "\n",
    "#columns=gluccose_levels\n",
    "\n",
    "result = pd.DataFrame(data, columns = gluccose_levels )\n",
    "result.to_csv('output.csv', sep=',')"
   ]
  },
  {
   "cell_type": "code",
   "execution_count": 25,
   "metadata": {
    "collapsed": false
   },
   "outputs": [],
   "source": []
  },
  {
   "cell_type": "code",
   "execution_count": null,
   "metadata": {
    "collapsed": true
   },
   "outputs": [],
   "source": []
  }
 ],
 "metadata": {
  "anaconda-cloud": {},
  "kernelspec": {
   "display_name": "Python [conda root]",
   "language": "python",
   "name": "conda-root-py"
  },
  "language_info": {
   "codemirror_mode": {
    "name": "ipython",
    "version": 2
   },
   "file_extension": ".py",
   "mimetype": "text/x-python",
   "name": "python",
   "nbconvert_exporter": "python",
   "pygments_lexer": "ipython2",
   "version": "2.7.12"
  }
 },
 "nbformat": 4,
 "nbformat_minor": 1
}
