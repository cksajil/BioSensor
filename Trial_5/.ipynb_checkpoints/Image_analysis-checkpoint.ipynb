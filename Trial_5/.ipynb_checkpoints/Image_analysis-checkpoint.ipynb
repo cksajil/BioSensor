{
 "cells": [
  {
   "cell_type": "markdown",
   "metadata": {},
   "source": [
    "# Image Analysis of Glucose Concertration"
   ]
  },
  {
   "cell_type": "code",
   "execution_count": 3,
   "metadata": {},
   "outputs": [],
   "source": [
    "# Read Image List\n",
    "\n",
    "from os import listdir\n",
    "\n",
    "imagesrc = 'Samples'\n",
    "files = listdir(imagesrc)\n",
    "files = sorted(files)"
   ]
  },
  {
   "cell_type": "code",
   "execution_count": 4,
   "metadata": {},
   "outputs": [
    {
     "name": "stdout",
     "output_type": "stream",
     "text": [
      "['Taliyola_1.png', 'Taliyola_2.png', 'Taliyola_3.png', 'Taliyola_4.png', 'Taliyola_5.png', 'Taliyola_6.png', 'Taliyola_7.png', 'Taliyola_8.png', 'Taliyola_9.png']\n"
     ]
    }
   ],
   "source": [
    "print files"
   ]
  },
  {
   "cell_type": "code",
   "execution_count": 13,
   "metadata": {},
   "outputs": [],
   "source": [
    "# Input Glucose Concentration Information\n",
    "\n",
    "import numpy as np\n",
    "gluccose_levels = np.linspace(1, 9, 9)"
   ]
  },
  {
   "cell_type": "code",
   "execution_count": 14,
   "metadata": {},
   "outputs": [
    {
     "name": "stdout",
     "output_type": "stream",
     "text": [
      "[ 1.  2.  3.  4.  5.  6.  7.  8.  9.]\n"
     ]
    }
   ],
   "source": [
    "print gluccose_levels"
   ]
  },
  {
   "cell_type": "code",
   "execution_count": 15,
   "metadata": {},
   "outputs": [],
   "source": [
    "# Read Images\n",
    "\n",
    "from scipy import misc\n",
    "#import matplotlib.pyplot as plt\n",
    "\n",
    "data = []\n",
    "\n",
    "for file in files:\n",
    "    img = misc.imread(imagesrc+'/'+file)\n",
    "\n",
    "    # The channels are Reg, Green, Blue and Transparency\n",
    "    # Select the red channel\n",
    "\n",
    "    red_component = img[:,:,0]\n",
    "    \n",
    "    # Flatten the array\n",
    "    red_vector = red_component.flatten()\n",
    "\n",
    "    data.append(red_vector)\n",
    "\n",
    "\n",
    "# Transpose the matrix \n",
    "data = map(list, zip(*data)) "
   ]
  },
  {
   "cell_type": "code",
   "execution_count": 16,
   "metadata": {},
   "outputs": [],
   "source": [
    "import pandas as pd\n",
    "\n",
    "#columns=gluccose_levels\n",
    "\n",
    "result = pd.DataFrame(data, columns = gluccose_levels )\n",
    "result.to_csv('output.csv', sep=',')"
   ]
  },
  {
   "cell_type": "code",
   "execution_count": null,
   "metadata": {
    "collapsed": true
   },
   "outputs": [],
   "source": []
  }
 ],
 "metadata": {
  "anaconda-cloud": {},
  "kernelspec": {
   "display_name": "Python 2",
   "language": "python",
   "name": "python2"
  },
  "language_info": {
   "codemirror_mode": {
    "name": "ipython",
    "version": 2
   },
   "file_extension": ".py",
   "mimetype": "text/x-python",
   "name": "python",
   "nbconvert_exporter": "python",
   "pygments_lexer": "ipython2",
   "version": "2.7.13"
  }
 },
 "nbformat": 4,
 "nbformat_minor": 1
}
