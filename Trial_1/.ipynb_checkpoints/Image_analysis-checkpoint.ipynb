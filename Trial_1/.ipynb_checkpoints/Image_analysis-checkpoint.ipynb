{
 "cells": [
  {
   "cell_type": "markdown",
   "metadata": {},
   "source": [
    "# Image Analysis of Glucose Concertration"
   ]
  },
  {
   "cell_type": "code",
   "execution_count": 9,
   "metadata": {
    "collapsed": false
   },
   "outputs": [],
   "source": [
    "# Read Image List\n",
    "\n",
    "from os import listdir\n",
    "\n",
    "imagesrc = 'Samples'\n",
    "files = listdir(imagesrc)\n",
    "#files = files[1:]"
   ]
  },
  {
   "cell_type": "code",
   "execution_count": 10,
   "metadata": {
    "collapsed": false
   },
   "outputs": [
    {
     "name": "stdout",
     "output_type": "stream",
     "text": [
      "['00_sample_0_5.tiff', '01_sample_1_0.tiff', '02_sample_1_5.tiff', '03_sample_2_0.tiff', '04_sample_2_5.tiff', '05_sample_3_0.tiff', '06_sample_3_5.tiff', '07_sample_4_0.tiff', '08_sample_4_5.tiff', '09_sample_5_0.tiff', '10_sample_5_5.tiff', '11_sample_6_0.tiff', '12_sample_6_5.tiff', '13_sample_7_0.tiff', '14_sample_7_5.tiff', '15_sample_8_0.tiff', '16_sample_8_5.tiff', '17_sample_9_0.tiff', '18_sample_9_5.tiff', '19_sample_10.tiff', '20_sample_10_5.tiff', '21_sample_11.tiff', '22_sample_11_5.tiff', '23_sample_12.tiff', '24_sample_12_5.tiff', '25_sample_13.tiff', '26_sample_13_5.tiff', '27_sample_14.tiff', '28_sample_14_5.tiff', '29_sample_15.tiff', '30_sample_15_5.tiff', '31_sample_16.tiff', '32_sample_16_5.tiff', '33_sample_17.tiff', '34_sample_17_5.tiff', '35_sample_18.tiff', '36_sample_18_5.tiff', '37_sample_19.tiff', '38_sample_19_5.tiff', '39_sample_20.tiff', '40_sample_20_5.tiff', '41_sample_21.tiff', '42_sample_21_5.tiff', '43_sample_22.tiff', '44_sample_22_5.tiff', '45_sample_23.tiff', '46_sample_23_5.tiff', '47_sample_24.tiff', '48_sample_24_5.tiff', '49_sample_25.tiff', '50_sample_25_5.tiff', '51_sample_26.tiff', '52_sample_26_5.tiff', '53_sample_27.tiff', '54_sample_27_5.tiff', '55_sample_28.tiff', '56_sample_28_5.tiff', '57_sample_29.tiff', '58_sample_29_5.tiff', '59_sample_30.tiff', '60_sample_30_5.tiff', '61_sample_31.tiff', '62_sample_31_5.tiff', '63_sample_32.tiff', '64_sample_32_5.tiff', '65_sample_33.tiff', '66_sample_33_5.tiff', '67_sample_34.tiff', '68_sample_34_5.tiff', '69_sample_35.tiff']\n"
     ]
    }
   ],
   "source": [
    "print files"
   ]
  },
  {
   "cell_type": "code",
   "execution_count": 12,
   "metadata": {
    "collapsed": false
   },
   "outputs": [],
   "source": [
    "# Input Glucose Concentration Information\n",
    "import numpy as np\n",
    "gluccose_levels = np.linspace(0.5, 35.0, 70)"
   ]
  },
  {
   "cell_type": "code",
   "execution_count": 13,
   "metadata": {
    "collapsed": false
   },
   "outputs": [],
   "source": [
    "# Read Images\n",
    "\n",
    "from scipy import misc\n",
    "#import matplotlib.pyplot as plt\n",
    "\n",
    "data = []\n",
    "\n",
    "for file in files:\n",
    "    img = misc.imread(imagesrc+'/'+file)\n",
    "\n",
    "    # The channels are Reg, Green, Blue and Transparency\n",
    "    # Select the red channel\n",
    "\n",
    "    red_component = img[:,:,0]\n",
    "    \n",
    "    # Flatten the array\n",
    "    red_vector = red_component.flatten()\n",
    "\n",
    "    data.append(red_vector)\n",
    "\n",
    "\n",
    "# Transpose the matrix \n",
    "data = map(list, zip(*data)) "
   ]
  },
  {
   "cell_type": "code",
   "execution_count": 15,
   "metadata": {
    "collapsed": false
   },
   "outputs": [],
   "source": [
    "import pandas as pd\n",
    "\n",
    "#columns=gluccose_levels\n",
    "\n",
    "result = pd.DataFrame(data, columns = gluccose_levels )\n",
    "result.to_csv('output.csv', sep=',')"
   ]
  },
  {
   "cell_type": "code",
   "execution_count": 25,
   "metadata": {
    "collapsed": false
   },
   "outputs": [],
   "source": []
  },
  {
   "cell_type": "code",
   "execution_count": null,
   "metadata": {
    "collapsed": true
   },
   "outputs": [],
   "source": []
  }
 ],
 "metadata": {
  "anaconda-cloud": {},
  "kernelspec": {
   "display_name": "Python [conda root]",
   "language": "python",
   "name": "conda-root-py"
  },
  "language_info": {
   "codemirror_mode": {
    "name": "ipython",
    "version": 2
   },
   "file_extension": ".py",
   "mimetype": "text/x-python",
   "name": "python",
   "nbconvert_exporter": "python",
   "pygments_lexer": "ipython2",
   "version": "2.7.12"
  }
 },
 "nbformat": 4,
 "nbformat_minor": 1
}
